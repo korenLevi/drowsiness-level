{
 "cells": [
  {
   "cell_type": "code",
   "execution_count": 1,
   "metadata": {},
   "outputs": [],
   "source": [
    "import os\n",
    "import pandas as pd"
   ]
  },
  {
   "cell_type": "code",
   "execution_count": null,
   "metadata": {},
   "outputs": [],
   "source": [
    "drowsiness_folder = 'data/SUST Driver Drowsiness Dataset/drowsiness'\n",
    "not_drowsiness_folder = 'data/SUST Driver Drowsiness Dataset/not drowsiness'\n",
    "\n",
    "# Function to list files in a folder\n",
    "def list_files_in_folder(folder):\n",
    "    return [f for f in os.listdir(folder) if os.path.isfile(os.path.join(folder, f))]\n",
    "\n",
    "# List files in each folder\n",
    "drowsiness_files = list_files_in_folder(drowsiness_folder)\n",
    "not_drowsiness_files = list_files_in_folder(not_drowsiness_folder)\n",
    "\n",
    "# Create DataFrames\n",
    "drowsiness_df = pd.DataFrame(drowsiness_files, columns=['filename'])\n",
    "drowsiness_df['label'] = 'drowsy'\n",
    "\n",
    "not_drowsiness_df = pd.DataFrame(not_drowsiness_files, columns=['filename'])\n",
    "not_drowsiness_df['label'] = 'not_drowsy'\n",
    "\n",
    "# Combine the DataFrames\n",
    "all_files_df = pd.concat([drowsiness_df, not_drowsiness_df], ignore_index=True)\n",
    "\n",
    "import ace_tools as tools; tools.display_dataframe_to_user(name=\"Driver Drowsiness Video Files\", dataframe=all_files_df)"
   ]
  }
 ],
 "metadata": {
  "kernelspec": {
   "display_name": "base",
   "language": "python",
   "name": "python3"
  },
  "language_info": {
   "codemirror_mode": {
    "name": "ipython",
    "version": 3
   },
   "file_extension": ".py",
   "mimetype": "text/x-python",
   "name": "python",
   "nbconvert_exporter": "python",
   "pygments_lexer": "ipython3",
   "version": "3.11.7"
  }
 },
 "nbformat": 4,
 "nbformat_minor": 2
}
